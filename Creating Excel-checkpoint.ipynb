{
 "cells": [
  {
   "cell_type": "code",
   "execution_count": 1,
   "id": "604f58ab",
   "metadata": {},
   "outputs": [],
   "source": [
    "import pandas as pd"
   ]
  },
  {
   "cell_type": "code",
   "execution_count": 2,
   "id": "48b91f9d",
   "metadata": {},
   "outputs": [],
   "source": [
    "import xlsxwriter\n",
    "import openpyxl\n",
    "from openpyxl.styles import PatternFill\n",
    "from openpyxl import Workbook\n",
    "import openpyxl\n",
    "from openpyxl.styles import Font"
   ]
  },
  {
   "cell_type": "code",
   "execution_count": 3,
   "id": "6fcee339",
   "metadata": {},
   "outputs": [],
   "source": [
    "workbook = xlsxwriter.Workbook('otTraderPanel.xlsx')"
   ]
  },
  {
   "cell_type": "code",
   "execution_count": 4,
   "id": "a85a532d",
   "metadata": {},
   "outputs": [],
   "source": [
    "worksheet1 = workbook.add_worksheet('Sheet 1')"
   ]
  },
  {
   "cell_type": "code",
   "execution_count": 5,
   "id": "6d4ff416",
   "metadata": {},
   "outputs": [],
   "source": [
    "worksheet2 = workbook.add_worksheet('Sheet 2')"
   ]
  },
  {
   "cell_type": "code",
   "execution_count": 6,
   "id": "b871e935",
   "metadata": {},
   "outputs": [],
   "source": [
    "# greenFill = PatternFill(start_color='00FF00',\n",
    "#                    end_color='00FF00',\n",
    "#                    fill_type='solid')"
   ]
  },
  {
   "cell_type": "code",
   "execution_count": 7,
   "id": "0471d3da",
   "metadata": {},
   "outputs": [],
   "source": [
    "newExgen=[['A1', 'Customer terms'], ['A2', 'Name'],['B2', 'Report'],['C2', 'Cargo'],['D2', 'Contractual qty(MT)'],['E2', 'Tolerance +/-(%)'],['F2', 'Quantity option'],['G2', 'Stow factor(cbft/mt)'],['H2', 'Load port'],['I2', 'Load rate(MT/day)'],['J2', 'Load terms'],['K2', 'Load draft(m)'],['L2', 'No. of berths'],['M2', 'Use cranes load'],['N2', 'Discharge port'],['O2', 'Discharge rate(MT/day)'],['P2', 'Discharge terms'],['Q2', 'Discharge draft(m)'],['R2', 'No. of berths'],['S2', 'Use cranes disch'],['T2', 'Voyage sale addr comm(%)'],['U2', 'Voyage sale broker comm(%)'],['V2', 'Option part cargo'],['W1', 'Customer prices'],['W2', '01-11-2022'],['X2', '01-12-2022'],['Y2', '01-01-2023']]"
   ]
  },
  {
   "cell_type": "code",
   "execution_count": 8,
   "id": "c4b8e8f5",
   "metadata": {},
   "outputs": [],
   "source": [
    "for i in range(len(newExgen)):\n",
    "    worksheet1.write(newExgen[i][0],newExgen[i][1])"
   ]
  },
  {
   "cell_type": "code",
   "execution_count": 9,
   "id": "c871afad",
   "metadata": {},
   "outputs": [],
   "source": [
    "newExgen1=[['A1', 'Base cargo no parcel option terms'], \n",
    "          ['A2', 'Base cargo name'],['B2', 'Base cargo concatenated terms'],['C2', 'Base cargo IMOS estimate'],['D1', 'Base cargo no parcel option prices'],['D2', '01-11-2022'],['E2', '01-12-2022'],['F2', '01-01-2023'],['G1', 'Base cargo parcel option discounts/prices'],['G2', '01-11-2022'],['H2', '01-12-2022'],['I2', '01-01-2023'],['J1', 'Top-off cargo economical stem no parcel option prices'],['J2', 'Top-off cargo IMOS estimate'],\n",
    "          ['K2', '01-11-2022'],['L2', '01-12-2022'],\n",
    "          ['M2', '01-01-2023'],\n",
    "          ['N1', 'Top-off cargo w/parcel option discounts'],\n",
    "          ['N2', '01-11-2022'],\n",
    "          ['O2', '01-12-2022'],\n",
    "          ['P2', '01-01-2023'],\n",
    "          ['Q1', 'Parcel calc terms'],\n",
    "          ['Q2', 'Parcel calc name'],\n",
    "          ['R2', 'Parcel calc concatenated terms'],\n",
    "          ['S2', 'Parcel calc IMOS estimate'],\n",
    "          ['T1', 'Parcel calc P&L'],\n",
    "          ['T2', '01-11-2022'],\n",
    "          ['U2', '01-12-2022'],\n",
    "          ['V2', '01-01-2023'],\n",
    "          ['W1', 'Parcel calc INPUT P&L'], \n",
    "           ['W2', '01-10-2022'],\n",
    "           ['X2', '01-11-2022'],['Y2', '01-01-2023'],\n",
    "           ['Z1', 'Parcel calc top-off parcel option PnL equivalent discount'],\n",
    "           ['Z2', '01-11-2022'], ['AA2', '01-12-2022'],['AB2', '01-01-2023']]\n",
    "          "
   ]
  },
  {
   "cell_type": "code",
   "execution_count": 10,
   "id": "2ffff3ce",
   "metadata": {},
   "outputs": [],
   "source": [
    "for i in range(len(newExgen1)):\n",
    "    worksheet2.write(newExgen1[i][0],newExgen1[i][1])"
   ]
  },
  {
   "cell_type": "code",
   "execution_count": 12,
   "id": "55e8d685",
   "metadata": {},
   "outputs": [],
   "source": [
    "workbook.close()"
   ]
  },
  {
   "cell_type": "code",
   "execution_count": null,
   "id": "dc1b2218",
   "metadata": {},
   "outputs": [],
   "source": []
  },
  {
   "cell_type": "code",
   "execution_count": null,
   "id": "e0f18eeb",
   "metadata": {},
   "outputs": [],
   "source": []
  },
  {
   "cell_type": "code",
   "execution_count": 14,
   "id": "ba16cd99",
   "metadata": {},
   "outputs": [],
   "source": [
    "# df3 = pd.read_csv('pnl_op.csv')"
   ]
  },
  {
   "cell_type": "code",
   "execution_count": 15,
   "id": "3c70b1db",
   "metadata": {},
   "outputs": [
    {
     "data": {
      "text/html": [
       "<div>\n",
       "<style scoped>\n",
       "    .dataframe tbody tr th:only-of-type {\n",
       "        vertical-align: middle;\n",
       "    }\n",
       "\n",
       "    .dataframe tbody tr th {\n",
       "        vertical-align: top;\n",
       "    }\n",
       "\n",
       "    .dataframe thead th {\n",
       "        text-align: right;\n",
       "    }\n",
       "</style>\n",
       "<table border=\"1\" class=\"dataframe\">\n",
       "  <thead>\n",
       "    <tr style=\"text-align: right;\">\n",
       "      <th></th>\n",
       "      <th>Unnamed: 0</th>\n",
       "      <th>Parcel calc name</th>\n",
       "      <th>Parcel calc IMOS estimate</th>\n",
       "      <th>Base cargo</th>\n",
       "      <th>Base cargo IMOS estimate</th>\n",
       "      <th>Top-off cargo IMOS estimate</th>\n",
       "      <th>Cargo</th>\n",
       "      <th>Intake_base</th>\n",
       "      <th>Duration</th>\n",
       "      <th>comm</th>\n",
       "      <th>...</th>\n",
       "      <th>01/01/2023_disc_top off</th>\n",
       "      <th>11/01/2022_top off price</th>\n",
       "      <th>12/01/2022_top off price</th>\n",
       "      <th>01/01/2023_top off price</th>\n",
       "      <th>11/01/2022</th>\n",
       "      <th>Customer price_11/01/2022</th>\n",
       "      <th>12/01/2022</th>\n",
       "      <th>Customer price_12/01/2022</th>\n",
       "      <th>01/01/2023</th>\n",
       "      <th>Customer price_01/01/2023</th>\n",
       "    </tr>\n",
       "  </thead>\n",
       "  <tbody>\n",
       "    <tr>\n",
       "      <th>0</th>\n",
       "      <td>0</td>\n",
       "      <td>45k iron NP Qingdao + 30k SBM Santos Kohsichang</td>\n",
       "      <td>RGE2-08498</td>\n",
       "      <td>Iron ore</td>\n",
       "      <td>RGE2-08649</td>\n",
       "      <td>RGE2-08470</td>\n",
       "      <td>IRON ORE</td>\n",
       "      <td>41128</td>\n",
       "      <td>61.017</td>\n",
       "      <td>0</td>\n",
       "      <td>...</td>\n",
       "      <td>-4</td>\n",
       "      <td>45.46865</td>\n",
       "      <td>45.590418</td>\n",
       "      <td>44.22542</td>\n",
       "      <td>212888.424492</td>\n",
       "      <td>42.46865</td>\n",
       "      <td>264065.990881</td>\n",
       "      <td>42.590418</td>\n",
       "      <td>239117.76965</td>\n",
       "      <td>40.22542</td>\n",
       "    </tr>\n",
       "  </tbody>\n",
       "</table>\n",
       "<p>1 rows × 30 columns</p>\n",
       "</div>"
      ],
      "text/plain": [
       "   Unnamed: 0                                 Parcel calc name  \\\n",
       "0           0  45k iron NP Qingdao + 30k SBM Santos Kohsichang   \n",
       "\n",
       "  Parcel calc IMOS estimate Base cargo  Base cargo IMOS estimate  \\\n",
       "0                RGE2-08498    Iron ore               RGE2-08649   \n",
       "\n",
       "  Top-off cargo IMOS estimate     Cargo  Intake_base  Duration  comm  ...  \\\n",
       "0                  RGE2-08470  IRON ORE        41128    61.017     0  ...   \n",
       "\n",
       "   01/01/2023_disc_top off  11/01/2022_top off price  \\\n",
       "0                       -4                  45.46865   \n",
       "\n",
       "   12/01/2022_top off price  01/01/2023_top off price     11/01/2022  \\\n",
       "0                 45.590418                  44.22542  212888.424492   \n",
       "\n",
       "   Customer price_11/01/2022     12/01/2022  Customer price_12/01/2022  \\\n",
       "0                   42.46865  264065.990881                  42.590418   \n",
       "\n",
       "     01/01/2023  Customer price_01/01/2023  \n",
       "0  239117.76965                   40.22542  \n",
       "\n",
       "[1 rows x 30 columns]"
      ]
     },
     "execution_count": 15,
     "metadata": {},
     "output_type": "execute_result"
    }
   ],
   "source": [
    "# df3"
   ]
  },
  {
   "cell_type": "code",
   "execution_count": 16,
   "id": "56e785bc",
   "metadata": {},
   "outputs": [],
   "source": [
    "# df3 = pd.read_csv('pnl_op.csv')"
   ]
  },
  {
   "cell_type": "code",
   "execution_count": null,
   "id": "7941cf5a",
   "metadata": {},
   "outputs": [],
   "source": [
    "# df1"
   ]
  },
  {
   "cell_type": "code",
   "execution_count": 10,
   "id": "2f05e023",
   "metadata": {},
   "outputs": [],
   "source": [
    "# worksheet1.write('A1', 'Customer terms')\n",
    "# worksheet1.write('A2', 'Name')\n",
    "# worksheet1.write('B2', 'Report')\n",
    "# worksheet1.write('C2', 'Cargo')\n",
    "# worksheet1.write('D2', 'Contractual qty(MT)')\n",
    "# worksheet1.write('E2', 'Tolerance +/-(%)')\n",
    "# worksheet1.write('F2', 'Quantity option')\n",
    "# worksheet1.write('G2', 'Stow factor(cbft/mt)')\n",
    "# worksheet1.write('H2', 'Load port')\n",
    "# worksheet1.write('I2', 'Load rate(MT/day)')\n",
    "# worksheet1.write('J2', 'Load terms')\n",
    "# worksheet1.write('K2', 'Load draft(m)')\n",
    "# worksheet1.write('L2', 'No. of berths')\n",
    "# worksheet1.write('M2', 'Use cranes load')\n",
    "# worksheet1.write('N2', 'Discharge port')\n",
    "# worksheet1.write('O2', 'Discharge rate(MT/day)')\n",
    "# worksheet1.write('P2', 'Discharge terms')\n",
    "# worksheet1.write('Q2', 'Discharge draft(m)')\n",
    "# worksheet1.write('R2', 'No. of berths')\n",
    "# worksheet1.write('S2', 'Use cranes disch')\n",
    "# worksheet1.write('T2', 'Voyage sale addr comm(%)')\n",
    "# worksheet1.write('U2', 'Voyage sale broker comm(%)')\n",
    "# worksheet1.write('V2', 'Option part cargo')\n"
   ]
  },
  {
   "cell_type": "code",
   "execution_count": null,
   "id": "29a36727",
   "metadata": {},
   "outputs": [],
   "source": [
    "# df1 = pd.read_excel('otTraderPanel.xlsx')"
   ]
  },
  {
   "cell_type": "code",
   "execution_count": 15,
   "id": "decc3f18",
   "metadata": {},
   "outputs": [],
   "source": [
    "# worksheet2.write('A1', 'Base cargo no parcel option terms')\n",
    "# worksheet2.write('A2', 'Base cargo name')\n",
    "# worksheet2.write('B2', 'Base cargo concatenated terms')\n",
    "# worksheet2.write('C2', 'Base cargo IMOS estimate')\n",
    "# worksheet2.write('D1', 'Base cargo no parcel option prices')\n",
    "# worksheet2.write('D2', '01-11-2022')\n",
    "# worksheet2.write('E2', '01-12-2022')\n",
    "# worksheet2.write('F2', '01-01-2023')\n",
    "# worksheet2.write('G1', 'Base cargo parcel option discounts/prices')\n",
    "# worksheet2.write('G2', '01-11-2022')\n",
    "# worksheet2.write('H2', '01-12-2022')\n",
    "# worksheet2.write('I2', '01-01-2023')\n",
    "# worksheet2.write('J1', 'Top-off cargo economical stem no parcel option prices')\n",
    "# worksheet2.write('J2', 'Top-off cargo IMOS estimate')\n",
    "# worksheet2.write('K2', '01-11-2022')\n",
    "# worksheet2.write('L2', '01-12-2022')\n",
    "# worksheet2.write('M2', '01-01-2023')\n",
    "# worksheet2.write('N1', 'Top-off cargo w/parcel option discounts')\n",
    "# worksheet2.write('N2', '01-11-2022')\n",
    "# worksheet2.write('O2', '01-12-2022')\n",
    "# worksheet2.write('P2', '01-01-2023')\n",
    "# worksheet2.write('Q1', 'Parcel calc terms')\n",
    "# worksheet2.write('Q2', 'Parcel calc name')\n",
    "# worksheet2.write('R2', 'Parcel calc concatenated terms')\n",
    "# worksheet2.write('S2', 'Parcel calc IMOS estimate')\n",
    "# worksheet2.write('T1', 'Parcel calc P&L')\n",
    "# worksheet2.write('T2', '01-11-2022')\n",
    "# worksheet2.write('U2', '01-12-2022')\n",
    "# worksheet2.write('V2', '01-01-2023')\n",
    "# worksheet2.write('W1', 'Parcel calc INPUT P&L')\n",
    "# worksheet2.write('W2', '01-10-2022')\n",
    "# worksheet2.write('X2', '01-11-2022')\n",
    "# worksheet2.write('Y2', '01-01-2023')\n",
    "# worksheet2.write('W1', 'Parcel calc top-off parcel option PnL equivalent discount')\n",
    "# worksheet2.write('Z2', '01-11-2022')\n",
    "# worksheet2.write('AA2', '01-12-2022')\n",
    "# worksheet2.write('AB2', '01-01-2023')\n"
   ]
  },
  {
   "cell_type": "code",
   "execution_count": 11,
   "id": "5dee2b59",
   "metadata": {},
   "outputs": [],
   "source": [
    "# worksheet1.write('W1', 'Customer prices')\n",
    "# worksheet1.write('W2', '01-11-2022')\n",
    "# worksheet1.write('X2', '01-12-2022')\n",
    "# worksheet1.write('Y2', '01-01-2023')"
   ]
  }
 ],
 "metadata": {
  "kernelspec": {
   "display_name": "Python 3 (ipykernel)",
   "language": "python",
   "name": "python3"
  },
  "language_info": {
   "codemirror_mode": {
    "name": "ipython",
    "version": 3
   },
   "file_extension": ".py",
   "mimetype": "text/x-python",
   "name": "python",
   "nbconvert_exporter": "python",
   "pygments_lexer": "ipython3",
   "version": "3.8.0"
  }
 },
 "nbformat": 4,
 "nbformat_minor": 5
}
